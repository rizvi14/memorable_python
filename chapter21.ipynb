{
 "cells": [
  {
   "cell_type": "code",
   "execution_count": 4,
   "id": "e27a0ba7",
   "metadata": {},
   "outputs": [
    {
     "data": {
      "text/plain": [
       "{'truck': 18, 'car': 4, 'bike': 2, 'unicycle': 1}"
      ]
     },
     "execution_count": 4,
     "metadata": {},
     "output_type": "execute_result"
    }
   ],
   "source": [
    "my_dict = {\n",
    "    \"truck\": 18,\n",
    "    \"car\": 4,\n",
    "    \"bike\": 2,\n",
    "    \"unicycle\": 1\n",
    "}\n",
    "my_dict"
   ]
  },
  {
   "cell_type": "code",
   "execution_count": 3,
   "id": "c2255f12",
   "metadata": {},
   "outputs": [
    {
     "data": {
      "text/plain": [
       "{'truck': 18, 'car': 4, 'bike': 2, 'unicycle': 1}"
      ]
     },
     "execution_count": 3,
     "metadata": {},
     "output_type": "execute_result"
    }
   ],
   "source": [
    "my_dict2 = dict(truck=18, car=4, bike=2, unicycle=1)\n",
    "my_dict2"
   ]
  },
  {
   "cell_type": "code",
   "execution_count": 5,
   "id": "d62f0942",
   "metadata": {},
   "outputs": [
    {
     "data": {
      "text/plain": [
       "{0: 'a', 1: 'b', 2: 'c'}"
      ]
     },
     "execution_count": 5,
     "metadata": {},
     "output_type": "execute_result"
    }
   ],
   "source": [
    "my_list_two = [\"a\",\"b\",\"c\"]\n",
    "\n",
    "more_dict = dict(enumerate(my_list_two))\n",
    "more_dict"
   ]
  },
  {
   "cell_type": "code",
   "execution_count": null,
   "id": "f0bf0895",
   "metadata": {},
   "outputs": [],
   "source": [
    "value_list = [\"good\",\"day\",\"today\"]\n",
    "\n",
    "a_dict = {k: v for k, v in enumerate(value_list)}\n",
    "a_dict"
   ]
  },
  {
   "cell_type": "code",
   "execution_count": 6,
   "id": "ec561d6d",
   "metadata": {},
   "outputs": [
    {
     "data": {
      "text/plain": [
       "{2: 'today'}"
      ]
     },
     "execution_count": 6,
     "metadata": {},
     "output_type": "execute_result"
    }
   ],
   "source": [
    "value_list_with_conditions = [\"good\",\"day\",\"today\"]\n",
    "\n",
    "a_dict_w_conditions = {k: v for k, v in enumerate(value_list_with_conditions) if k > 1}\n",
    "a_dict_w_conditions"
   ]
  },
  {
   "cell_type": "code",
   "execution_count": 7,
   "id": "bd5fed36",
   "metadata": {},
   "outputs": [
    {
     "data": {
      "text/plain": [
       "<zip at 0x1eb21b4e980>"
      ]
     },
     "execution_count": 7,
     "metadata": {},
     "output_type": "execute_result"
    }
   ],
   "source": [
    "my_list_one = [1,2,4]\n",
    "my_list_two = [\"a\",\"b\",\"c\"]\n",
    "\n",
    "zip(my_list_one,my_list_two)"
   ]
  },
  {
   "cell_type": "code",
   "execution_count": 8,
   "id": "46a6cd2d",
   "metadata": {},
   "outputs": [
    {
     "data": {
      "text/plain": [
       "{1: 'a', 2: 'b', 4: 'c'}"
      ]
     },
     "execution_count": 8,
     "metadata": {},
     "output_type": "execute_result"
    }
   ],
   "source": [
    "zipped_dict = dict(zip(my_list_one,my_list_two))\n",
    "zipped_dict"
   ]
  },
  {
   "cell_type": "code",
   "execution_count": 9,
   "id": "656db52a",
   "metadata": {},
   "outputs": [
    {
     "data": {
      "text/plain": [
       "{1: 'a', 2: 'b', 4: 'c'}"
      ]
     },
     "execution_count": 9,
     "metadata": {},
     "output_type": "execute_result"
    }
   ],
   "source": [
    "another_dict_comp = {my_key: my_val for my_key, my_val in zip(my_list_one,my_list_two)}\n",
    "another_dict_comp"
   ]
  },
  {
   "cell_type": "code",
   "execution_count": null,
   "id": "09c12809",
   "metadata": {},
   "outputs": [],
   "source": [
    "# 3 ways to make a dict include\n",
    "# 1. typing it all out with kv pairs\n",
    "# 2. dict() and then equating keys to values without commas\n",
    "# 3. zipping two lists together"
   ]
  }
 ],
 "metadata": {
  "kernelspec": {
   "display_name": "Python 3",
   "language": "python",
   "name": "python3"
  },
  "language_info": {
   "codemirror_mode": {
    "name": "ipython",
    "version": 3
   },
   "file_extension": ".py",
   "mimetype": "text/x-python",
   "name": "python",
   "nbconvert_exporter": "python",
   "pygments_lexer": "ipython3",
   "version": "3.13.2"
  }
 },
 "nbformat": 4,
 "nbformat_minor": 5
}
