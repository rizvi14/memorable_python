{
 "cells": [
  {
   "metadata": {
    "ExecuteTime": {
     "end_time": "2025-05-02T16:24:39.811077Z",
     "start_time": "2025-05-02T16:24:39.786099Z"
    }
   },
   "cell_type": "code",
   "source": [
    "my_empty_tuple = ()\n",
    "my_empty_tuple"
   ],
   "id": "24f27fad181f954e",
   "outputs": [
    {
     "data": {
      "text/plain": [
       "()"
      ]
     },
     "execution_count": 4,
     "metadata": {},
     "output_type": "execute_result"
    }
   ],
   "execution_count": 4
  },
  {
   "metadata": {
    "ExecuteTime": {
     "end_time": "2025-05-02T16:26:36.744944Z",
     "start_time": "2025-05-02T16:26:36.714176Z"
    }
   },
   "cell_type": "code",
   "source": [
    "my_string_tuple = ('disc','basketball','skis')\n",
    "my_string_tuple"
   ],
   "id": "526c040d423a3af3",
   "outputs": [
    {
     "data": {
      "text/plain": [
       "('disc', 'basketball', 'skis')"
      ]
     },
     "execution_count": 5,
     "metadata": {},
     "output_type": "execute_result"
    }
   ],
   "execution_count": 5
  },
  {
   "metadata": {
    "ExecuteTime": {
     "end_time": "2025-05-02T16:27:07.093374Z",
     "start_time": "2025-05-02T16:27:07.073655Z"
    }
   },
   "cell_type": "code",
   "source": "my_string_tuple[0]",
   "id": "658b32d8b6515bf5",
   "outputs": [
    {
     "data": {
      "text/plain": [
       "'disc'"
      ]
     },
     "execution_count": 7,
     "metadata": {},
     "output_type": "execute_result"
    }
   ],
   "execution_count": 7
  },
  {
   "metadata": {
    "ExecuteTime": {
     "end_time": "2025-05-02T16:27:22.864480Z",
     "start_time": "2025-05-02T16:27:22.825921Z"
    }
   },
   "cell_type": "code",
   "source": "len(my_string_tuple)",
   "id": "e02647822f22734e",
   "outputs": [
    {
     "data": {
      "text/plain": [
       "3"
      ]
     },
     "execution_count": 8,
     "metadata": {},
     "output_type": "execute_result"
    }
   ],
   "execution_count": 8
  },
  {
   "metadata": {
    "ExecuteTime": {
     "end_time": "2025-05-02T16:28:50.131984Z",
     "start_time": "2025-05-02T16:28:50.103669Z"
    }
   },
   "cell_type": "code",
   "source": [
    "my_list = ['bat','ball','glove']\n",
    "my_mixed_tuple = ('disc', my_list, 34)\n",
    "my_mixed_tuple"
   ],
   "id": "c40275915b3848ff",
   "outputs": [
    {
     "data": {
      "text/plain": [
       "('disc', ['bat', 'ball', 'glove'], 34)"
      ]
     },
     "execution_count": 11,
     "metadata": {},
     "output_type": "execute_result"
    }
   ],
   "execution_count": 11
  },
  {
   "metadata": {
    "ExecuteTime": {
     "end_time": "2025-05-02T16:29:24.576850Z",
     "start_time": "2025-05-02T16:29:24.545418Z"
    }
   },
   "cell_type": "code",
   "source": [
    "my_list.pop(2)\n",
    "my_mixed_tuple"
   ],
   "id": "fdd7243b2d4b0d53",
   "outputs": [
    {
     "data": {
      "text/plain": [
       "('disc', ['bat', 'ball'], 34)"
      ]
     },
     "execution_count": 12,
     "metadata": {},
     "output_type": "execute_result"
    }
   ],
   "execution_count": 12
  },
  {
   "metadata": {
    "ExecuteTime": {
     "end_time": "2025-05-02T16:30:18.867397Z",
     "start_time": "2025-05-02T16:30:18.851718Z"
    }
   },
   "cell_type": "code",
   "source": [
    "tuple_of_floats = ('3.4','3.5','3.6')\n",
    "tuple_of_floats"
   ],
   "id": "114d7fd19ff34d93",
   "outputs": [
    {
     "data": {
      "text/plain": [
       "('3.4', '3.5', '3.6')"
      ]
     },
     "execution_count": 13,
     "metadata": {},
     "output_type": "execute_result"
    }
   ],
   "execution_count": 13
  },
  {
   "metadata": {
    "ExecuteTime": {
     "end_time": "2025-05-02T16:30:26.709317Z",
     "start_time": "2025-05-02T16:30:26.691727Z"
    }
   },
   "cell_type": "code",
   "source": "len(tuple_of_floats)",
   "id": "dc097d8cd2db4bf",
   "outputs": [
    {
     "data": {
      "text/plain": [
       "3"
      ]
     },
     "execution_count": 14,
     "metadata": {},
     "output_type": "execute_result"
    }
   ],
   "execution_count": 14
  },
  {
   "metadata": {
    "ExecuteTime": {
     "end_time": "2025-05-02T16:31:36.096778Z",
     "start_time": "2025-05-02T16:31:36.047785Z"
    }
   },
   "cell_type": "code",
   "source": [
    "tuple_of_floats.append('5.6')\n",
    "tuple_of_floats\n",
    "# I'm learning that you can't append anything to tuple"
   ],
   "id": "d082867cc988def5",
   "outputs": [
    {
     "ename": "AttributeError",
     "evalue": "'tuple' object has no attribute 'append'",
     "output_type": "error",
     "traceback": [
      "\u001B[0;31m---------------------------------------------------------------------------\u001B[0m",
      "\u001B[0;31mAttributeError\u001B[0m                            Traceback (most recent call last)",
      "Cell \u001B[0;32mIn[15], line 1\u001B[0m\n\u001B[0;32m----> 1\u001B[0m \u001B[43mtuple_of_floats\u001B[49m\u001B[38;5;241;43m.\u001B[39;49m\u001B[43mappend\u001B[49m(\u001B[38;5;124m'\u001B[39m\u001B[38;5;124m5.6\u001B[39m\u001B[38;5;124m'\u001B[39m)\n\u001B[1;32m      2\u001B[0m tuple_of_floats\n",
      "\u001B[0;31mAttributeError\u001B[0m: 'tuple' object has no attribute 'append'"
     ]
    }
   ],
   "execution_count": 15
  }
 ],
 "metadata": {},
 "nbformat": 4,
 "nbformat_minor": 5
}
