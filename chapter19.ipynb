{
 "cells": [
  {
   "cell_type": "code",
   "execution_count": 1,
   "id": "24a85f20",
   "metadata": {},
   "outputs": [
    {
     "name": "stdout",
     "output_type": "stream",
     "text": [
      "'\n"
     ]
    }
   ],
   "source": [
    "print(\"'\")"
   ]
  },
  {
   "cell_type": "code",
   "execution_count": 2,
   "id": "b51769e3",
   "metadata": {},
   "outputs": [
    {
     "name": "stdout",
     "output_type": "stream",
     "text": [
      "\"\n"
     ]
    }
   ],
   "source": [
    "print('\"')"
   ]
  },
  {
   "cell_type": "code",
   "execution_count": 4,
   "id": "91930cdb",
   "metadata": {},
   "outputs": [
    {
     "name": "stdout",
     "output_type": "stream",
     "text": [
      "we \n",
      "can \n",
      "do \n",
      "it!\n"
     ]
    }
   ],
   "source": [
    "print (\"we \\ncan \\ndo \\nit!\")"
   ]
  },
  {
   "cell_type": "code",
   "execution_count": 5,
   "id": "1f718f33",
   "metadata": {},
   "outputs": [
    {
     "data": {
      "text/plain": [
       "'ab'"
      ]
     },
     "execution_count": 5,
     "metadata": {},
     "output_type": "execute_result"
    }
   ],
   "source": [
    "'a' + 'b'"
   ]
  },
  {
   "cell_type": "code",
   "execution_count": 6,
   "id": "4444f2d9",
   "metadata": {},
   "outputs": [
    {
     "name": "stdout",
     "output_type": "stream",
     "text": [
      "\\\n"
     ]
    }
   ],
   "source": [
    "print(\"\\\\\")"
   ]
  },
  {
   "cell_type": "code",
   "execution_count": 8,
   "id": "492d3fba",
   "metadata": {},
   "outputs": [
    {
     "name": "stdout",
     "output_type": "stream",
     "text": [
      "h\n",
      "o\n",
      "n\n",
      "e\n",
      "y\n"
     ]
    }
   ],
   "source": [
    "my_string = \"honey\"\n",
    "\n",
    "for letter in my_string:\n",
    "    print(letter)"
   ]
  },
  {
   "cell_type": "code",
   "execution_count": 9,
   "id": "8c7d1efe",
   "metadata": {},
   "outputs": [
    {
     "data": {
      "text/plain": [
       "'e'"
      ]
     },
     "execution_count": 9,
     "metadata": {},
     "output_type": "execute_result"
    }
   ],
   "source": [
    "my_string = my_string[3]\n",
    "my_string"
   ]
  },
  {
   "cell_type": "code",
   "execution_count": 10,
   "id": "1425fdf2",
   "metadata": {},
   "outputs": [
    {
     "data": {
      "text/plain": [
       "1"
      ]
     },
     "execution_count": 10,
     "metadata": {},
     "output_type": "execute_result"
    }
   ],
   "source": [
    "len(my_string)"
   ]
  },
  {
   "cell_type": "code",
   "execution_count": 11,
   "id": "5f62530d",
   "metadata": {},
   "outputs": [],
   "source": [
    "transportation = \"a bike\"\n",
    "\n",
    "my_string = f\"My vehicle is {transportation}\""
   ]
  },
  {
   "cell_type": "code",
   "execution_count": 12,
   "id": "d2962261",
   "metadata": {},
   "outputs": [
    {
     "data": {
      "text/plain": [
       "'My vehicle is a bike'"
      ]
     },
     "execution_count": 12,
     "metadata": {},
     "output_type": "execute_result"
    }
   ],
   "source": [
    "my_string"
   ]
  },
  {
   "cell_type": "code",
   "execution_count": 13,
   "id": "2093b28b",
   "metadata": {},
   "outputs": [
    {
     "data": {
      "text/plain": [
       "'My text 10. More text'"
      ]
     },
     "execution_count": 13,
     "metadata": {},
     "output_type": "execute_result"
    }
   ],
   "source": [
    "my_var = 10\n",
    "f\"My text {my_var}. More text\""
   ]
  },
  {
   "cell_type": "code",
   "execution_count": 30,
   "id": "36a5ca1e",
   "metadata": {},
   "outputs": [
    {
     "name": "stdout",
     "output_type": "stream",
     "text": [
      "wow\n",
      "great\n",
      "grape\n",
      "The reversed string looks like this eparg\n",
      "taerg\n",
      "wow\n",
      "<class 'dict'>\n"
     ]
    }
   ],
   "source": [
    "#19.2 Practice\n",
    "\n",
    "#1\n",
    "string_with_newline = \"wow\\ngreat\\ngrape\"\n",
    "print(string_with_newline)\n",
    "\n",
    "#2 reversed using string slicing\n",
    "string_with_newline_reversed = string_with_newline[::-1]\n",
    "\n",
    "#3 variable's value in a string using f-string\n",
    "print(f\"The reversed string looks like this {string_with_newline_reversed}\")\n",
    "\n",
    "#4 write string to file\n",
    "with open(\"test_output.txt\",\"w\") as file:\n",
    "    file.write(string_with_newline_reversed)\n",
    "\n",
    "#5 make a dict\n",
    "make_a_dictionary = {\n",
    "    \"key1\": \"value1\",\n",
    "    \"key2\": \"value2\"\n",
    "}\n",
    "\n",
    "print(type(make_a_dictionary))"
   ]
  },
  {
   "cell_type": "code",
   "execution_count": null,
   "id": "88f0d343",
   "metadata": {},
   "outputs": [],
   "source": []
  }
 ],
 "metadata": {
  "kernelspec": {
   "display_name": "Python 3",
   "language": "python",
   "name": "python3"
  },
  "language_info": {
   "codemirror_mode": {
    "name": "ipython",
    "version": 3
   },
   "file_extension": ".py",
   "mimetype": "text/x-python",
   "name": "python",
   "nbconvert_exporter": "python",
   "pygments_lexer": "ipython3",
   "version": "3.13.2"
  }
 },
 "nbformat": 4,
 "nbformat_minor": 5
}
