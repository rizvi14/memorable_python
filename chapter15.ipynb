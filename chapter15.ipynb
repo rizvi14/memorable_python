{
 "cells": [
  {
   "cell_type": "code",
   "execution_count": 1,
   "id": "e66b05eb",
   "metadata": {},
   "outputs": [
    {
     "name": "stdout",
     "output_type": "stream",
     "text": [
      "lime\n",
      "bird\n",
      "jump\n",
      "lemon\n"
     ]
    }
   ],
   "source": [
    "scooter_list = ['lime','bird','jump','lemon']\n",
    "\n",
    "for scooter in scooter_list:\n",
    "    print(scooter)"
   ]
  },
  {
   "cell_type": "code",
   "execution_count": 3,
   "id": "b5070dce",
   "metadata": {},
   "outputs": [
    {
     "name": "stdout",
     "output_type": "stream",
     "text": [
      "100\n",
      "200\n",
      "300\n"
     ]
    },
    {
     "data": {
      "text/plain": [
       "[110, 210, 310]"
      ]
     },
     "execution_count": 3,
     "metadata": {},
     "output_type": "execute_result"
    }
   ],
   "source": [
    "prices = [100,200,300]\n",
    "counter = 0\n",
    "\n",
    "for price in prices:\n",
    "    print(price)\n",
    "    price += 10\n",
    "    prices[counter] = price\n",
    "    counter += 1\n",
    "\n",
    "prices"
   ]
  },
  {
   "cell_type": "code",
   "execution_count": 4,
   "id": "22760ce8",
   "metadata": {},
   "outputs": [
    {
     "name": "stdout",
     "output_type": "stream",
     "text": [
      "310\n"
     ]
    }
   ],
   "source": [
    "print(price)"
   ]
  },
  {
   "cell_type": "code",
   "execution_count": 5,
   "id": "9ebb5404",
   "metadata": {},
   "outputs": [
    {
     "name": "stdout",
     "output_type": "stream",
     "text": [
      "3\n"
     ]
    }
   ],
   "source": [
    "print(counter)"
   ]
  },
  {
   "cell_type": "code",
   "execution_count": 7,
   "id": "500f4eba",
   "metadata": {},
   "outputs": [
    {
     "name": "stdout",
     "output_type": "stream",
     "text": [
      "Total siamese cats: 2\n"
     ]
    }
   ],
   "source": [
    "siamese_counter = 0\n",
    "cats = [\"sphinx\",\"siamese\",\"sphinx\",\"tabby\",\"siamese\"]\n",
    "\n",
    "for cat in cats:\n",
    "    if cat == \"siamese\":\n",
    "        siamese_counter +=1\n",
    "\n",
    "print(\"Total siamese cats: \" + str(siamese_counter))"
   ]
  },
  {
   "cell_type": "code",
   "execution_count": 9,
   "id": "7dafb5c8",
   "metadata": {},
   "outputs": [
    {
     "name": "stdout",
     "output_type": "stream",
     "text": [
      "1\n",
      "2\n",
      "3\n",
      "4\n",
      "5\n"
     ]
    }
   ],
   "source": [
    "list_of_numbers = [1,2,3,4,5]\n",
    "\n",
    "for numbers in list_of_numbers:\n",
    "    print(numbers)"
   ]
  },
  {
   "cell_type": "code",
   "execution_count": 10,
   "id": "63d58404",
   "metadata": {},
   "outputs": [
    {
     "name": "stdout",
     "output_type": "stream",
     "text": [
      "3\n"
     ]
    }
   ],
   "source": [
    "odd_counter = 0\n",
    "\n",
    "for numbers in list_of_numbers:\n",
    "    if numbers % 2 == 1:\n",
    "        odd_counter +=1\n",
    "\n",
    "print(odd_counter)"
   ]
  },
  {
   "cell_type": "code",
   "execution_count": 11,
   "id": "cd272d2d",
   "metadata": {},
   "outputs": [
    {
     "name": "stdout",
     "output_type": "stream",
     "text": [
      "2\n"
     ]
    }
   ],
   "source": [
    "even_counter = 0\n",
    "\n",
    "for numbers in list_of_numbers:\n",
    "    if numbers % 2 == 0:\n",
    "        even_counter +=1\n",
    "\n",
    "print(even_counter)"
   ]
  },
  {
   "cell_type": "code",
   "execution_count": 13,
   "id": "d34ac97d",
   "metadata": {},
   "outputs": [
    {
     "name": "stdout",
     "output_type": "stream",
     "text": [
      "test1\n",
      "test2\n",
      "test3\n",
      "test4\n"
     ]
    }
   ],
   "source": [
    "looping_false = ['test1','test2','test3','test4']\n",
    "\n",
    "if looping_false[0] == 'test10':\n",
    "    print('The first value is test10')\n",
    "else:\n",
    "    for looping in looping_false:\n",
    "        print(looping)"
   ]
  }
 ],
 "metadata": {
  "kernelspec": {
   "display_name": "Python 3",
   "language": "python",
   "name": "python3"
  },
  "language_info": {
   "codemirror_mode": {
    "name": "ipython",
    "version": 3
   },
   "file_extension": ".py",
   "mimetype": "text/x-python",
   "name": "python",
   "nbconvert_exporter": "python",
   "pygments_lexer": "ipython3",
   "version": "3.13.2"
  }
 },
 "nbformat": 4,
 "nbformat_minor": 5
}
