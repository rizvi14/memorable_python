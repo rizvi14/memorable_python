{
 "cells": [
  {
   "cell_type": "code",
   "execution_count": 1,
   "id": "d649fa93",
   "metadata": {},
   "outputs": [],
   "source": [
    "def my_function():\n",
    "    #do something\n",
    "    return"
   ]
  },
  {
   "cell_type": "code",
   "execution_count": 3,
   "id": "d94d285c",
   "metadata": {},
   "outputs": [],
   "source": [
    "my_function()"
   ]
  },
  {
   "cell_type": "code",
   "execution_count": 5,
   "id": "8e8a2ae8",
   "metadata": {},
   "outputs": [
    {
     "name": "stdout",
     "output_type": "stream",
     "text": [
      "31\n",
      "21\n"
     ]
    }
   ],
   "source": [
    "def my_function_that_adds():\n",
    "    z = 21\n",
    "    print(z+10)\n",
    "    return z\n",
    "\n",
    "my_variable = my_function_that_adds()\n",
    "print(my_variable)"
   ]
  },
  {
   "cell_type": "code",
   "execution_count": 6,
   "id": "4ac76810",
   "metadata": {},
   "outputs": [
    {
     "name": "stdout",
     "output_type": "stream",
     "text": [
      "31\n",
      "21\n"
     ]
    }
   ],
   "source": [
    "print(my_function_that_adds())"
   ]
  },
  {
   "cell_type": "code",
   "execution_count": 7,
   "id": "37aa4f2c",
   "metadata": {},
   "outputs": [],
   "source": [
    "def my_function_that_adds_2(first_number,second_number):\n",
    "    total = first_number + second_number\n",
    "    return total"
   ]
  },
  {
   "cell_type": "code",
   "execution_count": 8,
   "id": "75a76956",
   "metadata": {},
   "outputs": [
    {
     "data": {
      "text/plain": [
       "12"
      ]
     },
     "execution_count": 8,
     "metadata": {},
     "output_type": "execute_result"
    }
   ],
   "source": [
    "my_function_that_adds_2(5,7)"
   ]
  },
  {
   "cell_type": "code",
   "execution_count": 9,
   "id": "22f94664",
   "metadata": {},
   "outputs": [
    {
     "data": {
      "text/plain": [
       "15"
      ]
     },
     "execution_count": 9,
     "metadata": {},
     "output_type": "execute_result"
    }
   ],
   "source": [
    "second = 5\n",
    "my_return_value = my_function_that_adds_2(10,second)\n",
    "my_return_value"
   ]
  },
  {
   "cell_type": "code",
   "execution_count": 10,
   "id": "edf688d8",
   "metadata": {},
   "outputs": [
    {
     "data": {
      "text/plain": [
       "50"
      ]
     },
     "execution_count": 10,
     "metadata": {},
     "output_type": "execute_result"
    }
   ],
   "source": [
    "def second_addition_function(first_number=20,second_number=30):\n",
    "    total = first_number + second_number\n",
    "    return total\n",
    "\n",
    "my_return_value_second = second_addition_function()\n",
    "my_return_value_second"
   ]
  },
  {
   "cell_type": "code",
   "execution_count": 11,
   "id": "00e6205b",
   "metadata": {},
   "outputs": [
    {
     "data": {
      "text/plain": [
       "-35"
      ]
     },
     "execution_count": 11,
     "metadata": {},
     "output_type": "execute_result"
    }
   ],
   "source": [
    "def second_addition_function_amended(first_number=20,second_number=30):\n",
    "    total = first_number + second_number\n",
    "    return total\n",
    "\n",
    "my_return_value = second_addition_function_amended(-10,-25)\n",
    "my_return_value"
   ]
  },
  {
   "cell_type": "code",
   "execution_count": 12,
   "id": "fcbf09c3",
   "metadata": {},
   "outputs": [
    {
     "data": {
      "text/plain": [
       "15"
      ]
     },
     "execution_count": 12,
     "metadata": {},
     "output_type": "execute_result"
    }
   ],
   "source": [
    "def subtraction_function(first_number=20,second_number=30):\n",
    "    total = first_number - second_number\n",
    "    return total\n",
    "\n",
    "my_return_value = subtraction_function(second_number=10,first_number=25)\n",
    "my_return_value"
   ]
  },
  {
   "cell_type": "code",
   "execution_count": 13,
   "id": "e65abb45",
   "metadata": {},
   "outputs": [
    {
     "data": {
      "text/plain": [
       "'WHY NOT THIS STRING'"
      ]
     },
     "execution_count": 13,
     "metadata": {},
     "output_type": "execute_result"
    }
   ],
   "source": [
    "a_string = \"why not this string\" \n",
    "a_string.upper()"
   ]
  },
  {
   "cell_type": "code",
   "execution_count": 14,
   "id": "91db0c18",
   "metadata": {},
   "outputs": [
    {
     "name": "stdout",
     "output_type": "stream",
     "text": [
      "Help on method_descriptor:\n",
      "\n",
      "upper(self, /) unbound builtins.str method\n",
      "    Return a copy of the string converted to uppercase.\n",
      "\n"
     ]
    }
   ],
   "source": [
    "help(str.upper)"
   ]
  },
  {
   "cell_type": "code",
   "execution_count": 15,
   "id": "20322b39",
   "metadata": {},
   "outputs": [
    {
     "data": {
      "text/plain": [
       "'cheap, bap, cheap, cheapidy-cheap!'"
      ]
     },
     "execution_count": 15,
     "metadata": {},
     "output_type": "execute_result"
    }
   ],
   "source": [
    "my_string = \"Beep, BAP, beep, beepidy-beep!\"\n",
    "my_cheap_string = my_string.lower()\n",
    "my_cheap_string.replace('beep','cheap')"
   ]
  },
  {
   "cell_type": "code",
   "execution_count": 35,
   "id": "4e90e30d",
   "metadata": {},
   "outputs": [
    {
     "name": "stdout",
     "output_type": "stream",
     "text": [
      "['ITEM01', 'ITEM1', 'ITEM2']\n"
     ]
    }
   ],
   "source": [
    "making_a_list = ['item1','item2','item01']\n",
    "\n",
    "print(str(sorted(making_a_list)).upper())"
   ]
  },
  {
   "cell_type": "code",
   "execution_count": 37,
   "id": "7ae3820f",
   "metadata": {},
   "outputs": [
    {
     "data": {
      "text/plain": [
       "dict_keys(['stringkey1', 'stringkey2', 'stringkey3', 'stringkey4'])"
      ]
     },
     "execution_count": 37,
     "metadata": {},
     "output_type": "execute_result"
    }
   ],
   "source": [
    "making_a_dictionary = {\n",
    "    'stringkey1':'stringvalue1',\n",
    "    'stringkey2':'stringvalue2',\n",
    "    'stringkey3':'stringvalue3',\n",
    "    'stringkey4':'stringvalue4'\n",
    "}\n",
    "\n",
    "making_a_dictionary.keys()"
   ]
  },
  {
   "cell_type": "code",
   "execution_count": 48,
   "id": "34f8c702",
   "metadata": {},
   "outputs": [
    {
     "name": "stdout",
     "output_type": "stream",
     "text": [
      "{'key1': 'value1'}\n"
     ]
    }
   ],
   "source": [
    "dictionary_testing = {\n",
    "    \"key1\":\"value1\"\n",
    "}\n",
    "\n",
    "new_value_assignments = dictionary_testing.keys()\n",
    "new_key_assignments = dictionary_testing.values()\n",
    "counter = 0\n",
    "'''\n",
    "for x in dictionary_testing.keys():\n",
    "    dictionary_testing[counter] = new_key_assignments[counter]\n",
    "'''\n",
    "print(dictionary_testing)"
   ]
  },
  {
   "cell_type": "code",
   "execution_count": null,
   "id": "d6b63823",
   "metadata": {},
   "outputs": [
    {
     "name": "stdout",
     "output_type": "stream",
     "text": [
      "{'stringkey1': 'stringvalue1', 'stringkey2': 'stringvalue2', 'stringkey3': 'stringvalue3', 'stringkey4': 'stringvalue4'}\n"
     ]
    }
   ],
   "source": [
    "def somefunction(any_dictionary):    \n",
    "    new_value_assignments = any_dictionary.keys()\n",
    "    new_key_assignments = any_dictionary.values()\n",
    "    for key in any_dictionary:\n",
    "        counter = 0\n",
    "        any_dictionary[counter]=new_key_assignments[counter]\n",
    "        counter +=1\n",
    "    for values in any_dictionary.values():\n",
    "        counter = 0\n",
    "        any_dictionary.values(counter)=new_value_assignments[counter]\n",
    "        counter +=1\n",
    "    return any_dictionary\n",
    "\n",
    "print(somefunction(making_a_dictionary))\n"
   ]
  },
  {
   "cell_type": "code",
   "execution_count": 40,
   "id": "734eeb3c",
   "metadata": {},
   "outputs": [
    {
     "data": {
      "text/plain": [
       "{'stringkey1': 'stringvalue1',\n",
       " 'stringkey2': 'stringvalue2',\n",
       " 'stringkey3': 'stringvalue3',\n",
       " 'stringkey4': 'stringvalue4'}"
      ]
     },
     "execution_count": 40,
     "metadata": {},
     "output_type": "execute_result"
    }
   ],
   "source": [
    "somefunction(making_a_dictionary)"
   ]
  },
  {
   "cell_type": "code",
   "execution_count": null,
   "id": "267e163d",
   "metadata": {},
   "outputs": [
    {
     "data": {
      "text/plain": [
       "''"
      ]
     },
     "execution_count": 1,
     "metadata": {},
     "output_type": "execute_result"
    }
   ],
   "source": [
    "'''\n",
    "couldn't figure out the dictionary parsing, this one was annoying to be quite frank\n",
    "'''"
   ]
  },
  {
   "cell_type": "code",
   "execution_count": null,
   "id": "023c2dc5",
   "metadata": {},
   "outputs": [
    {
     "data": {
      "text/plain": [
       "'funny'"
      ]
     },
     "execution_count": 3,
     "metadata": {},
     "output_type": "execute_result"
    }
   ],
   "source": [
    "def my_fun():\n",
    "    return\n",
    "\n",
    "def my_funny():\n",
    "    return \"funny\"\n",
    "\n",
    "\n",
    "my_funny()"
   ]
  },
  {
   "cell_type": "code",
   "execution_count": 4,
   "id": "ebe5b09d",
   "metadata": {},
   "outputs": [
    {
     "data": {
      "text/plain": [
       "10"
      ]
     },
     "execution_count": 4,
     "metadata": {},
     "output_type": "execute_result"
    }
   ],
   "source": [
    "def my_function(number_to_square):\n",
    "    squared = number_to_square\n",
    "    return squared\n",
    "\n",
    "my_function(10)"
   ]
  },
  {
   "cell_type": "code",
   "execution_count": 6,
   "id": "1e42d315",
   "metadata": {},
   "outputs": [
    {
     "data": {
      "text/plain": [
       "10"
      ]
     },
     "execution_count": 6,
     "metadata": {},
     "output_type": "execute_result"
    }
   ],
   "source": [
    "def my_func(number_to_square=10):\n",
    "    squared = number_to_square\n",
    "    return squared\n",
    "\n",
    "my_func()"
   ]
  },
  {
   "cell_type": "code",
   "execution_count": 7,
   "id": "fc07773d",
   "metadata": {},
   "outputs": [
    {
     "name": "stdout",
     "output_type": "stream",
     "text": [
      "10\n"
     ]
    }
   ],
   "source": [
    "my_var = my_func()\n",
    "print(my_var)"
   ]
  },
  {
   "cell_type": "code",
   "execution_count": 8,
   "id": "b34d3720",
   "metadata": {},
   "outputs": [
    {
     "data": {
      "text/plain": [
       "5"
      ]
     },
     "execution_count": 8,
     "metadata": {},
     "output_type": "execute_result"
    }
   ],
   "source": [
    "my_function(5)"
   ]
  },
  {
   "cell_type": "code",
   "execution_count": null,
   "id": "67ee8977",
   "metadata": {},
   "outputs": [],
   "source": []
  }
 ],
 "metadata": {
  "kernelspec": {
   "display_name": "Python 3",
   "language": "python",
   "name": "python3"
  },
  "language_info": {
   "codemirror_mode": {
    "name": "ipython",
    "version": 3
   },
   "file_extension": ".py",
   "mimetype": "text/x-python",
   "name": "python",
   "nbconvert_exporter": "python",
   "pygments_lexer": "ipython3",
   "version": "3.13.2"
  }
 },
 "nbformat": 4,
 "nbformat_minor": 5
}
