{
 "cells": [
  {
   "cell_type": "code",
   "execution_count": null,
   "id": "68afafb9",
   "metadata": {},
   "outputs": [],
   "source": [
    "#if True:\n",
    "    #then do stuff in this block"
   ]
  },
  {
   "cell_type": "code",
   "execution_count": 2,
   "id": "b253e8cd",
   "metadata": {},
   "outputs": [
    {
     "data": {
      "text/plain": [
       "1"
      ]
     },
     "execution_count": 2,
     "metadata": {},
     "output_type": "execute_result"
    }
   ],
   "source": [
    "my_number = 3\n",
    "my_important_variable = 0\n",
    "\n",
    "if my_number > 2:\n",
    "    my_important_variable += 1\n",
    "\n",
    "my_important_variable"
   ]
  },
  {
   "cell_type": "code",
   "execution_count": 3,
   "id": "bec9923b",
   "metadata": {},
   "outputs": [
    {
     "data": {
      "text/plain": [
       "0"
      ]
     },
     "execution_count": 3,
     "metadata": {},
     "output_type": "execute_result"
    }
   ],
   "source": [
    "my_number = 1\n",
    "my_important_variable = 0\n",
    "\n",
    "if my_number > 2:\n",
    "    my_important_variable += 1\n",
    "\n",
    "my_important_variable"
   ]
  },
  {
   "cell_type": "code",
   "execution_count": 4,
   "id": "5a0379f2",
   "metadata": {},
   "outputs": [
    {
     "name": "stdout",
     "output_type": "stream",
     "text": [
      "Both parts are True\n"
     ]
    }
   ],
   "source": [
    "x = 1\n",
    "y =2 \n",
    "\n",
    "if x == 1 and y ==2:\n",
    "    print(\"Both parts are True\")"
   ]
  },
  {
   "cell_type": "code",
   "execution_count": 6,
   "id": "9ffee8e2",
   "metadata": {},
   "outputs": [
    {
     "name": "stdout",
     "output_type": "stream",
     "text": [
      "funny\n"
     ]
    }
   ],
   "source": [
    "my_age = 16\n",
    "\n",
    "if my_age < 20:\n",
    "    print(\"funny\")\n",
    "else:\n",
    "    print(\"silly\")   "
   ]
  },
  {
   "cell_type": "code",
   "execution_count": 7,
   "id": "5b9acddd",
   "metadata": {},
   "outputs": [
    {
     "name": "stdout",
     "output_type": "stream",
     "text": [
      "Home is not Ohio or Arizona\n"
     ]
    }
   ],
   "source": [
    "home = \"DC\"\n",
    "\n",
    "if home == \"AZ\":\n",
    "    print(\"Arizona\")\n",
    "elif home == \"OH\":\n",
    "    print(\"Ohio\")\n",
    "else:\n",
    "    print(\"Home is not Ohio or Arizona\")"
   ]
  },
  {
   "cell_type": "code",
   "execution_count": 9,
   "id": "3232efcb",
   "metadata": {},
   "outputs": [
    {
     "name": "stdout",
     "output_type": "stream",
     "text": [
      "Home is not Arizona, Maryland, or Ohio\n"
     ]
    }
   ],
   "source": [
    "home = \"DC\"\n",
    "\n",
    "if home == \"AZ\":\n",
    "    print(\"Arizona\")\n",
    "elif home == \"OH\":\n",
    "    print(\"Ohio\")\n",
    "elif home == \"MD\":\n",
    "    print(\"Maryland\")\n",
    "else:\n",
    "    print(\"Home is not Arizona, Maryland, or Ohio\")"
   ]
  },
  {
   "cell_type": "code",
   "execution_count": 10,
   "id": "a0227dbe",
   "metadata": {},
   "outputs": [
    {
     "name": "stdout",
     "output_type": "stream",
     "text": [
      "Arizona\n",
      "Tucson\n",
      "The end\n"
     ]
    }
   ],
   "source": [
    "state = \"AZ\"\n",
    "city = \"Tucson\"\n",
    "\n",
    "if state == \"AZ\":\n",
    "    print(\"Arizona\")\n",
    "    if city == \"Phoenix\":\n",
    "        print(\"Phoenix\")\n",
    "    elif city == \"Tucson\":\n",
    "        print(\"Tucson\")\n",
    "elif home == \"MD\":\n",
    "    print(\"Maryland\")\n",
    "    if city == \"Tucson\":\n",
    "        print(\"Nope, TUcson isn't in Maryland\")\n",
    "else:\n",
    "    print(\"Home is not Arizone or Maryland\")\n",
    "print(\"The end\")"
   ]
  },
  {
   "cell_type": "code",
   "execution_count": 13,
   "id": "4fcdf256",
   "metadata": {},
   "outputs": [
    {
     "data": {
      "text/plain": [
       "['A', 'B', 'C']"
      ]
     },
     "execution_count": 13,
     "metadata": {},
     "output_type": "execute_result"
    }
   ],
   "source": [
    "my_list = ['A','B','C']\n",
    "my_list"
   ]
  },
  {
   "cell_type": "code",
   "execution_count": null,
   "id": "8f7b4845",
   "metadata": {},
   "outputs": [
    {
     "name": "stdout",
     "output_type": "stream",
     "text": [
      "Success\n"
     ]
    }
   ],
   "source": [
    "if my_list[-1] == 'A':\n",
    "    print(\"Success\")\n",
    "else:\n",
    "    print(\"Failure\")"
   ]
  },
  {
   "cell_type": "code",
   "execution_count": 16,
   "id": "c52f9625",
   "metadata": {},
   "outputs": [
    {
     "name": "stdout",
     "output_type": "stream",
     "text": [
      "Failure\n"
     ]
    }
   ],
   "source": [
    "if my_list[-1] == 'Z':\n",
    "    print(\"Success\")\n",
    "else:\n",
    "    print(\"Failure\")"
   ]
  },
  {
   "cell_type": "code",
   "execution_count": 17,
   "id": "83123cce",
   "metadata": {},
   "outputs": [
    {
     "data": {
      "text/plain": [
       "1"
      ]
     },
     "execution_count": 17,
     "metadata": {},
     "output_type": "execute_result"
    }
   ],
   "source": [
    "new_dictionary = {\n",
    "    \"great\": 1,\n",
    "    \"grape\": 2\n",
    "}\n",
    "\n",
    "new_dictionary[\"great\"]"
   ]
  },
  {
   "cell_type": "code",
   "execution_count": null,
   "id": "e8d0aa8e",
   "metadata": {},
   "outputs": [],
   "source": [
    "if new_dictionary[\"great\"]:\n",
    "    print(\"yes\")\n",
    "else:\n",
    "    print(\"no\")"
   ]
  }
 ],
 "metadata": {
  "kernelspec": {
   "display_name": "Python 3",
   "language": "python",
   "name": "python3"
  },
  "language_info": {
   "codemirror_mode": {
    "name": "ipython",
    "version": 3
   },
   "file_extension": ".py",
   "mimetype": "text/x-python",
   "name": "python",
   "nbconvert_exporter": "python",
   "pygments_lexer": "ipython3",
   "version": "3.13.2"
  }
 },
 "nbformat": 4,
 "nbformat_minor": 5
}
