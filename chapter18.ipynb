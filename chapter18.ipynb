{
 "cells": [
  {
   "cell_type": "code",
   "execution_count": null,
   "id": "a6edd516",
   "metadata": {},
   "outputs": [],
   "source": [
    "'''\n",
    "can't do much here on chapter 18 because its Colab specific, but imma try\n",
    "'''"
   ]
  },
  {
   "cell_type": "code",
   "execution_count": 9,
   "id": "4eae1f6a",
   "metadata": {},
   "outputs": [
    {
     "name": "stdout",
     "output_type": "stream",
     "text": [
      "\n"
     ]
    }
   ],
   "source": [
    "file_path = \"C:\\\\Users\\\\moriz\\\\OneDrive\\\\Desktop\\\\testing.txt\" \n",
    "\n",
    "with open(file_path,'a+') as my_file:\n",
    "    data = my_file.read()\n",
    "    print(data)"
   ]
  },
  {
   "cell_type": "code",
   "execution_count": 10,
   "id": "72c07346",
   "metadata": {},
   "outputs": [],
   "source": [
    "with open(file_path,'a+') as my_file:\n",
    "    my_file.write(\"Testing more\")"
   ]
  },
  {
   "cell_type": "code",
   "execution_count": null,
   "id": "3153df70",
   "metadata": {},
   "outputs": [],
   "source": [
    "'''\n",
    "honestly this is getting awful and not super helpful but I'm trying my best\n",
    "'''"
   ]
  }
 ],
 "metadata": {
  "kernelspec": {
   "display_name": "Python 3",
   "language": "python",
   "name": "python3"
  },
  "language_info": {
   "codemirror_mode": {
    "name": "ipython",
    "version": 3
   },
   "file_extension": ".py",
   "mimetype": "text/x-python",
   "name": "python",
   "nbconvert_exporter": "python",
   "pygments_lexer": "ipython3",
   "version": "3.13.2"
  }
 },
 "nbformat": 4,
 "nbformat_minor": 5
}
