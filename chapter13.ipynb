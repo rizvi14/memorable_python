{
 "cells": [
  {
   "cell_type": "code",
   "execution_count": 80,
   "id": "6a2eb8e2",
   "metadata": {},
   "outputs": [
    {
     "data": {
      "text/plain": [
       "{}"
      ]
     },
     "execution_count": 80,
     "metadata": {},
     "output_type": "execute_result"
    }
   ],
   "source": [
    "my_empty_dict = {}\n",
    "my_empty_dict"
   ]
  },
  {
   "cell_type": "code",
   "execution_count": 81,
   "id": "c2a0c20b",
   "metadata": {},
   "outputs": [
    {
     "data": {
      "text/plain": [
       "dict"
      ]
     },
     "execution_count": 81,
     "metadata": {},
     "output_type": "execute_result"
    }
   ],
   "source": [
    "type(my_empty_dict)"
   ]
  },
  {
   "cell_type": "code",
   "execution_count": 82,
   "id": "2e2a2be1",
   "metadata": {},
   "outputs": [],
   "source": [
    "my_dict = {\n",
    "    \"truck\": 18,\n",
    "    \"car\": 4,\n",
    "    \"bike\": 2,\n",
    "    \"unicycle\": 1\n",
    "}"
   ]
  },
  {
   "cell_type": "code",
   "execution_count": 83,
   "id": "28f22603",
   "metadata": {},
   "outputs": [
    {
     "data": {
      "text/plain": [
       "2"
      ]
     },
     "execution_count": 83,
     "metadata": {},
     "output_type": "execute_result"
    }
   ],
   "source": [
    "my_dict.get('bike')"
   ]
  },
  {
   "cell_type": "code",
   "execution_count": 84,
   "id": "86cb939b",
   "metadata": {},
   "outputs": [
    {
     "data": {
      "text/plain": [
       "2"
      ]
     },
     "execution_count": 84,
     "metadata": {},
     "output_type": "execute_result"
    }
   ],
   "source": [
    "my_dict['bike']"
   ]
  },
  {
   "cell_type": "code",
   "execution_count": 85,
   "id": "876f27f4",
   "metadata": {},
   "outputs": [
    {
     "ename": "KeyError",
     "evalue": "'boat'",
     "output_type": "error",
     "traceback": [
      "\u001b[31m---------------------------------------------------------------------------\u001b[39m",
      "\u001b[31mKeyError\u001b[39m                                  Traceback (most recent call last)",
      "\u001b[36mCell\u001b[39m\u001b[36m \u001b[39m\u001b[32mIn[85]\u001b[39m\u001b[32m, line 1\u001b[39m\n\u001b[32m----> \u001b[39m\u001b[32m1\u001b[39m \u001b[43mmy_dict\u001b[49m\u001b[43m[\u001b[49m\u001b[33;43m'\u001b[39;49m\u001b[33;43mboat\u001b[39;49m\u001b[33;43m'\u001b[39;49m\u001b[43m]\u001b[49m\n",
      "\u001b[31mKeyError\u001b[39m: 'boat'"
     ]
    }
   ],
   "source": [
    "my_dict['boat']"
   ]
  },
  {
   "cell_type": "code",
   "execution_count": 86,
   "id": "b2d5e369",
   "metadata": {},
   "outputs": [
    {
     "data": {
      "text/plain": [
       "{'truck': 18, 'car': 4, 'bike': 2, 'unicycle': 1, 'trike': 3}"
      ]
     },
     "execution_count": 86,
     "metadata": {},
     "output_type": "execute_result"
    }
   ],
   "source": [
    "my_dict['trike'] = 3\n",
    "my_dict"
   ]
  },
  {
   "cell_type": "code",
   "execution_count": 87,
   "id": "d6d32515",
   "metadata": {},
   "outputs": [
    {
     "data": {
      "text/plain": [
       "5"
      ]
     },
     "execution_count": 87,
     "metadata": {},
     "output_type": "execute_result"
    }
   ],
   "source": [
    "my_dict['bike'] = 5\n",
    "my_dict.get('bike')"
   ]
  },
  {
   "cell_type": "code",
   "execution_count": 88,
   "id": "7309ca2d",
   "metadata": {},
   "outputs": [
    {
     "data": {
      "text/plain": [
       "dict_keys(['truck', 'car', 'bike', 'unicycle', 'trike'])"
      ]
     },
     "execution_count": 88,
     "metadata": {},
     "output_type": "execute_result"
    }
   ],
   "source": [
    "my_dict.keys()"
   ]
  },
  {
   "cell_type": "code",
   "execution_count": 89,
   "id": "7d7ac62d",
   "metadata": {},
   "outputs": [
    {
     "data": {
      "text/plain": [
       "dict_items([('truck', 18), ('car', 4), ('bike', 5), ('unicycle', 1), ('trike', 3)])"
      ]
     },
     "execution_count": 89,
     "metadata": {},
     "output_type": "execute_result"
    }
   ],
   "source": [
    "my_dict.items()"
   ]
  },
  {
   "cell_type": "code",
   "execution_count": 90,
   "id": "f6c22bc2",
   "metadata": {},
   "outputs": [
    {
     "data": {
      "text/plain": [
       "dict_values([18, 4, 5, 1, 3])"
      ]
     },
     "execution_count": 90,
     "metadata": {},
     "output_type": "execute_result"
    }
   ],
   "source": [
    "my_dict.values()"
   ]
  },
  {
   "cell_type": "code",
   "execution_count": 91,
   "id": "a3c8d73e",
   "metadata": {},
   "outputs": [
    {
     "data": {
      "text/plain": [
       "{'a': 3, 'b': 5}"
      ]
     },
     "execution_count": 91,
     "metadata": {},
     "output_type": "execute_result"
    }
   ],
   "source": [
    "my_second_dict = dict(a=3,b=5)\n",
    "my_second_dict"
   ]
  },
  {
   "cell_type": "code",
   "execution_count": 92,
   "id": "f02c97d6",
   "metadata": {},
   "outputs": [],
   "source": [
    "my_new_dict = my_dict.update(my_second_dict)\n",
    "my_new_dict"
   ]
  },
  {
   "cell_type": "code",
   "execution_count": 93,
   "id": "56bb4a0a",
   "metadata": {},
   "outputs": [
    {
     "data": {
      "text/plain": [
       "dict_items([('truck', 18), ('car', 4), ('bike', 5), ('unicycle', 1), ('trike', 3), ('a', 3), ('b', 5)])"
      ]
     },
     "execution_count": 93,
     "metadata": {},
     "output_type": "execute_result"
    }
   ],
   "source": [
    "my_dict.items()"
   ]
  },
  {
   "cell_type": "code",
   "execution_count": 94,
   "id": "d3e1bfe5",
   "metadata": {},
   "outputs": [
    {
     "data": {
      "text/plain": [
       "{'truck': 18, 'car': 4, 'bike': 5, 'unicycle': 1, 'trike': 3, 'a': 3, 'b': 5}"
      ]
     },
     "execution_count": 94,
     "metadata": {},
     "output_type": "execute_result"
    }
   ],
   "source": [
    "my_dict"
   ]
  },
  {
   "cell_type": "code",
   "execution_count": 95,
   "id": "a2082dc6",
   "metadata": {},
   "outputs": [
    {
     "name": "stdout",
     "output_type": "stream",
     "text": [
      "{'truck': 18, 'car': 4, 'bike': 5, 'unicycle': 1, 'a': 3, 'b': 5}\n",
      "3\n"
     ]
    }
   ],
   "source": [
    "popped_value = my_dict.pop('trike')\n",
    "print(my_dict)\n",
    "print(popped_value)"
   ]
  },
  {
   "cell_type": "code",
   "execution_count": 96,
   "id": "4fc49caf",
   "metadata": {},
   "outputs": [
    {
     "data": {
      "text/plain": [
       "True"
      ]
     },
     "execution_count": 96,
     "metadata": {},
     "output_type": "execute_result"
    }
   ],
   "source": [
    "'unicycle' in my_dict"
   ]
  },
  {
   "cell_type": "code",
   "execution_count": 97,
   "id": "891d9cde",
   "metadata": {},
   "outputs": [
    {
     "data": {
      "text/plain": [
       "6"
      ]
     },
     "execution_count": 97,
     "metadata": {},
     "output_type": "execute_result"
    }
   ],
   "source": [
    "len(my_dict)"
   ]
  },
  {
   "cell_type": "code",
   "execution_count": 101,
   "id": "14eab483",
   "metadata": {},
   "outputs": [],
   "source": [
    "dictionary_1 = {\n",
    "    \"testing_1\": 1,\n",
    "    \"testing_2\":2\n",
    "}\n",
    "\n",
    "dictionary_2 = {\n",
    "    \"testing_3\": 3,\n",
    "    \"testing_4\": 4\n",
    "}\n",
    "\n",
    "dictionary_1.update(dictionary_2)"
   ]
  },
  {
   "cell_type": "code",
   "execution_count": 102,
   "id": "a3afa41d",
   "metadata": {},
   "outputs": [
    {
     "data": {
      "text/plain": [
       "{'testing_1': 1, 'testing_2': 2, 'testing_3': 3, 'testing_4': 4}"
      ]
     },
     "execution_count": 102,
     "metadata": {},
     "output_type": "execute_result"
    }
   ],
   "source": [
    "dictionary_1"
   ]
  },
  {
   "cell_type": "code",
   "execution_count": 103,
   "id": "13eb940f",
   "metadata": {},
   "outputs": [
    {
     "data": {
      "text/plain": [
       "{'testing_1': 1, 'testing_3': 3, 'testing_4': 4}"
      ]
     },
     "execution_count": 103,
     "metadata": {},
     "output_type": "execute_result"
    }
   ],
   "source": [
    "dictionary_1.pop(\"testing_2\")\n",
    "dictionary_1"
   ]
  },
  {
   "cell_type": "code",
   "execution_count": 104,
   "id": "2aeabd3d",
   "metadata": {},
   "outputs": [
    {
     "data": {
      "text/plain": [
       "{'testing_1': 1, 'testing_3': 3, 'testing_4': 4, 'testing_5': 5}"
      ]
     },
     "execution_count": 104,
     "metadata": {},
     "output_type": "execute_result"
    }
   ],
   "source": [
    "dictionary_1[\"testing_5\"]=5\n",
    "dictionary_1"
   ]
  },
  {
   "cell_type": "code",
   "execution_count": 105,
   "id": "d0b41d0c",
   "metadata": {},
   "outputs": [
    {
     "data": {
      "text/plain": [
       "dict_items([('testing_1', 1), ('testing_3', 3), ('testing_4', 4), ('testing_5', 5)])"
      ]
     },
     "execution_count": 105,
     "metadata": {},
     "output_type": "execute_result"
    }
   ],
   "source": [
    "dictionary_1.items()"
   ]
  },
  {
   "cell_type": "code",
   "execution_count": 106,
   "id": "3848c02a",
   "metadata": {},
   "outputs": [
    {
     "data": {
      "text/plain": [
       "'\\n- Insertion order means that they maintain the order in which they were added to the table\\n- Yes\\n- Use the get() or the specified key using [] after referencing the dictionary\\n'"
      ]
     },
     "execution_count": 106,
     "metadata": {},
     "output_type": "execute_result"
    }
   ],
   "source": [
    "'''\n",
    "- Insertion order means that they maintain the order in which they were added to the table\n",
    "- Yes\n",
    "- Use the get() or the specified key using [] after referencing the dictionary\n",
    "'''"
   ]
  },
  {
   "cell_type": "code",
   "execution_count": null,
   "id": "18d05d20",
   "metadata": {},
   "outputs": [],
   "source": []
  }
 ],
 "metadata": {
  "kernelspec": {
   "display_name": "Python 3",
   "language": "python",
   "name": "python3"
  },
  "language_info": {
   "codemirror_mode": {
    "name": "ipython",
    "version": 3
   },
   "file_extension": ".py",
   "mimetype": "text/x-python",
   "name": "python",
   "nbconvert_exporter": "python",
   "pygments_lexer": "ipython3",
   "version": "3.13.2"
  }
 },
 "nbformat": 4,
 "nbformat_minor": 5
}
