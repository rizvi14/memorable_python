{
 "cells": [
  {
   "cell_type": "code",
   "execution_count": 18,
   "id": "b0a0956d",
   "metadata": {},
   "outputs": [
    {
     "name": "stdout",
     "output_type": "stream",
     "text": [
      "0\n",
      "1\n",
      "2\n",
      "3\n",
      "4\n"
     ]
    }
   ],
   "source": [
    "counter = 0\n",
    "while counter < 5:\n",
    "    print(counter)\n",
    "    counter += 1"
   ]
  },
  {
   "cell_type": "code",
   "execution_count": 19,
   "id": "35800da3",
   "metadata": {},
   "outputs": [
    {
     "name": "stdout",
     "output_type": "stream",
     "text": [
      "Inside\n",
      "Outside\n"
     ]
    }
   ],
   "source": [
    "x = 2\n",
    "while x < 3:\n",
    "    if x == 2:\n",
    "        print(\"Inside\")\n",
    "        break\n",
    "    print(\"This won't print\")\n",
    "print(\"Outside\")"
   ]
  },
  {
   "cell_type": "code",
   "execution_count": 20,
   "id": "0828fee4",
   "metadata": {},
   "outputs": [
    {
     "name": "stdout",
     "output_type": "stream",
     "text": [
      "2 Inside\n"
     ]
    }
   ],
   "source": [
    "'''\n",
    "x = 2\n",
    "while x < 3:\n",
    "    if x == 2:\n",
    "        print(\"Inside\")\n",
    "        break\n",
    "    print(\"This won't print\")\n",
    "print(\"Outside\")\n",
    "'''\n",
    "\n",
    "#rewriting the above via a for loop\n",
    "\n",
    "for i in range (2,3,1):\n",
    "    print(i, \"Inside\")"
   ]
  },
  {
   "cell_type": "code",
   "execution_count": 21,
   "id": "bbdfdb5d",
   "metadata": {},
   "outputs": [
    {
     "name": "stdout",
     "output_type": "stream",
     "text": [
      "That is a sentence\n"
     ]
    }
   ],
   "source": [
    "#2 string that consists of a sentence\n",
    "string_consisting_of_a_sentence = \"This is a sentence\"\n",
    "replaced_scoas = string_consisting_of_a_sentence.replace(\"This\",\"That\")\n",
    "\n",
    "print(replaced_scoas)"
   ]
  },
  {
   "cell_type": "code",
   "execution_count": 22,
   "id": "01b0dc76",
   "metadata": {},
   "outputs": [
    {
     "name": "stdout",
     "output_type": "stream",
     "text": [
      "[1, 4, 9, 16, 25, 36]\n"
     ]
    }
   ],
   "source": [
    "#3 make a list with a list comprehension\n",
    "making_a_list = [1,2,3,4,5,6]\n",
    "\n",
    "list_comprehended = [i**2 for i in making_a_list]\n",
    "\n",
    "print(list_comprehended)"
   ]
  },
  {
   "cell_type": "code",
   "execution_count": 23,
   "id": "570b3936",
   "metadata": {},
   "outputs": [
    {
     "name": "stdout",
     "output_type": "stream",
     "text": [
      "6\n"
     ]
    }
   ],
   "source": [
    "#4 length of that list\n",
    "print(len(making_a_list))"
   ]
  },
  {
   "cell_type": "code",
   "execution_count": null,
   "id": "a708f8bd",
   "metadata": {},
   "outputs": [
    {
     "name": "stdout",
     "output_type": "stream",
     "text": [
      "Testing value is now at 1\n",
      "Testing value is now at 2\n",
      "Testing value is now at 3\n",
      "Testing value is now at 4\n",
      "Testing value is now at 5\n"
     ]
    }
   ],
   "source": [
    "testing_value = 0\n",
    "\n",
    "while testing_value < 5:\n",
    "    if testing_value > -1:\n",
    "        testing_value += 1\n",
    "        print(\"Testing value is now at \" + str(testing_value))\n",
    "    else:\n",
    "        print(\"We've reached the max threshold within the limit of 10\")"
   ]
  }
 ],
 "metadata": {
  "kernelspec": {
   "display_name": "Python 3",
   "language": "python",
   "name": "python3"
  },
  "language_info": {
   "codemirror_mode": {
    "name": "ipython",
    "version": 3
   },
   "file_extension": ".py",
   "mimetype": "text/x-python",
   "name": "python",
   "nbconvert_exporter": "python",
   "pygments_lexer": "ipython3",
   "version": "3.13.2"
  }
 },
 "nbformat": 4,
 "nbformat_minor": 5
}
